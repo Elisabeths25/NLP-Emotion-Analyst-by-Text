{
  "metadata": {
    "kernelspec": {
      "language": "python",
      "display_name": "Python 3",
      "name": "python3"
    },
    "language_info": {
      "pygments_lexer": "ipython3",
      "nbconvert_exporter": "python",
      "version": "3.6.4",
      "file_extension": ".py",
      "codemirror_mode": {
        "name": "ipython",
        "version": 3
      },
      "name": "python",
      "mimetype": "text/x-python"
    },
    "colab": {
      "provenance": [],
      "collapsed_sections": [],
      "include_colab_link": true
    },
    "accelerator": "TPU",
    "gpuClass": "standard"
  },
  "nbformat_minor": 0,
  "nbformat": 4,
  "cells": [
    {
      "cell_type": "markdown",
      "metadata": {
        "id": "view-in-github",
        "colab_type": "text"
      },
      "source": [
        "<a href=\"https://colab.research.google.com/github/Elisabeths25/NLP-Emotion-Analyst-by-Text/blob/main/Emotion_Recognition.ipynb\" target=\"_parent\"><img src=\"https://colab.research.google.com/assets/colab-badge.svg\" alt=\"Open In Colab\"/></a>"
      ]
    },
    {
      "cell_type": "code",
      "source": [
        "import re\n",
        "import string\n",
        "import numpy as np\n",
        "import pandas as pd\n",
        "import matplotlib.pyplot as plt\n",
        "import tensorflow as tf\n",
        "\n",
        "from sklearn.preprocessing import LabelEncoder\n",
        "from sklearn.model_selection import train_test_split\n",
        "\n",
        "from tensorflow.keras.utils import to_categorical\n",
        "from tensorflow.keras.preprocessing.text import Tokenizer\n",
        "from tensorflow.keras.preprocessing.sequence import pad_sequences\n",
        "\n",
        "from tensorflow.keras.optimizers import Adam\n",
        "from tensorflow.keras.models import Sequential\n",
        "from tensorflow.keras.callbacks import EarlyStopping\n",
        "from tensorflow.keras.layers import Dense, LSTM, Embedding, Bidirectional, Dropout, Input, Activation"
      ],
      "metadata": {
        "_uuid": "8f2839f25d086af736a60e9eeb907d3b93b6e0e5",
        "_cell_guid": "b1076dfc-b9ad-4769-8c92-a6c4dae69d19",
        "execution": {
          "iopub.status.busy": "2021-10-28T16:49:56.359082Z",
          "iopub.execute_input": "2021-10-28T16:49:56.359603Z",
          "iopub.status.idle": "2021-10-28T16:49:56.365625Z",
          "shell.execute_reply.started": "2021-10-28T16:49:56.359565Z",
          "shell.execute_reply": "2021-10-28T16:49:56.364911Z"
        },
        "trusted": true,
        "id": "t68PiZcNQpq0"
      },
      "execution_count": 12,
      "outputs": []
    },
    {
      "cell_type": "code",
      "source": [
        "from google.colab import drive\n",
        "drive.mount('/content/drive')"
      ],
      "metadata": {
        "colab": {
          "base_uri": "https://localhost:8080/"
        },
        "id": "S5tbyjXjQ2FQ",
        "outputId": "3e6e1394-caef-4c58-8f36-27def6bb9901"
      },
      "execution_count": 2,
      "outputs": [
        {
          "output_type": "stream",
          "name": "stdout",
          "text": [
            "Mounted at /content/drive\n"
          ]
        }
      ]
    },
    {
      "cell_type": "code",
      "source": [
        "# Text preprocessing function\n",
        "str_punc = string.punctuation.replace(',', '').replace(\"'\",'')\n",
        "\n",
        "def clean(text):\n",
        "    global str_punc\n",
        "    text = re.sub(r'[^a-zA-Z ]', '', text)\n",
        "    text = text.lower()\n",
        "    return text    "
      ],
      "metadata": {
        "execution": {
          "iopub.status.busy": "2021-10-28T16:49:24.707767Z",
          "iopub.execute_input": "2021-10-28T16:49:24.70831Z",
          "iopub.status.idle": "2021-10-28T16:49:24.713891Z",
          "shell.execute_reply.started": "2021-10-28T16:49:24.708271Z",
          "shell.execute_reply": "2021-10-28T16:49:24.712859Z"
        },
        "trusted": true,
        "id": "8D27h1V5Qpq5"
      },
      "execution_count": 3,
      "outputs": []
    },
    {
      "cell_type": "code",
      "source": [
        "# Read dataset & Preprocess text\n",
        "df_train = pd.read_csv('/content/drive/MyDrive/Assignment/train.txt', names=['Text', 'Emotion'], sep=';')\n",
        "df_val = pd.read_csv('/content/drive/MyDrive/Assignment/val.txt', names=['Text', 'Emotion'], sep=';')\n",
        "df_test = pd.read_csv('/content/drive/MyDrive/Assignment/test.txt', names=['Text', 'Emotion'], sep=';')\n",
        "\n",
        "X_train = df_train['Text'].apply(clean)\n",
        "y_train = df_train['Emotion']\n",
        "\n",
        "X_test = df_test['Text'].apply(clean)\n",
        "y_test = df_test['Emotion']\n",
        "\n",
        "X_val = df_val['Text'].apply(clean)\n",
        "y_val = df_val['Emotion']"
      ],
      "metadata": {
        "execution": {
          "iopub.status.busy": "2021-10-28T17:00:39.84876Z",
          "iopub.execute_input": "2021-10-28T17:00:39.849444Z",
          "iopub.status.idle": "2021-10-28T17:00:39.970872Z",
          "shell.execute_reply.started": "2021-10-28T17:00:39.849404Z",
          "shell.execute_reply": "2021-10-28T17:00:39.970153Z"
        },
        "trusted": true,
        "id": "orwQDQnyQpq7"
      },
      "execution_count": 4,
      "outputs": []
    },
    {
      "cell_type": "code",
      "source": [
        "# Visualize classes counts\n",
        "colors = np.array([\"gray\", 'orangered', 'hotpink', 'gold', 'teal', 'cornflowerblue'])\n",
        "\n",
        "plt.bar(x=pd.Series.unique(y_train), height=pd.Series.value_counts(y_train), color=colors)\n",
        "plt.title(\"Training data - classes counts\")\n",
        "plt.show()\n",
        "\n",
        "plt.bar(x=pd.Series.unique(y_test), height=pd.Series.value_counts(y_test), color=colors)\n",
        "plt.title(\"Testing data - classes counts\")\n",
        "plt.show()\n",
        "\n",
        "plt.bar(x=pd.Series.unique(y_val), height=pd.Series.value_counts(y_val), color=colors)\n",
        "plt.title(\"Validation data - classes counts\")\n",
        "plt.show()"
      ],
      "metadata": {
        "execution": {
          "iopub.status.busy": "2021-10-28T17:00:42.26372Z",
          "iopub.execute_input": "2021-10-28T17:00:42.264322Z",
          "iopub.status.idle": "2021-10-28T17:00:42.812352Z",
          "shell.execute_reply.started": "2021-10-28T17:00:42.264285Z",
          "shell.execute_reply": "2021-10-28T17:00:42.811716Z"
        },
        "trusted": true,
        "colab": {
          "base_uri": "https://localhost:8080/",
          "height": 809
        },
        "id": "_OFClA3aQpq9",
        "outputId": "562ecdf8-adf2-4f36-8820-a4f9806295e2"
      },
      "execution_count": 5,
      "outputs": [
        {
          "output_type": "display_data",
          "data": {
            "text/plain": [
              "<Figure size 432x288 with 1 Axes>"
            ],
            "image/png": "[encoded data removed]"
          },
          "metadata": {
            "needs_background": "light"
          }
        },
        {
          "output_type": "display_data",
          "data": {
            "text/plain": [
              "<Figure size 432x288 with 1 Axes>"
            ],
            "image/png": "[encoded data removed]"
          },
          "metadata": {
            "needs_background": "light"
          }
        },
        {
          "output_type": "display_data",
          "data": {
            "text/plain": [
              "<Figure size 432x288 with 1 Axes>"
            ],
            "image/png": "[encoded data removed]"
          },
          "metadata": {
            "needs_background": "light"
          }
        }
      ]
    },
    {
      "cell_type": "code",
      "source": [
        "# Encode labels\n",
        "le = LabelEncoder()\n",
        "y_train = le.fit_transform(y_train)\n",
        "y_test = le.fit_transform(y_test)\n",
        "y_val = le.fit_transform(y_val)\n",
        "\n",
        "y_train = y_train\n",
        "y_test = y_test\n",
        "y_val = y_val"
      ],
      "metadata": {
        "execution": {
          "iopub.status.busy": "2021-10-28T17:01:21.726601Z",
          "iopub.execute_input": "2021-10-28T17:01:21.72706Z",
          "iopub.status.idle": "2021-10-28T17:01:21.743992Z",
          "shell.execute_reply.started": "2021-10-28T17:01:21.727018Z",
          "shell.execute_reply": "2021-10-28T17:01:21.743311Z"
        },
        "trusted": true,
        "id": "V9F2tWMGQpq_"
      },
      "execution_count": 6,
      "outputs": []
    },
    {
      "cell_type": "code",
      "source": [
        "# Tokenize words\n",
        "tokenizer = Tokenizer()\n",
        "tokenizer.fit_on_texts(pd.concat([X_train, X_test], axis=0))\n",
        "\n",
        "sequences_train = tokenizer.texts_to_sequences(X_train)\n",
        "sequences_test = tokenizer.texts_to_sequences(X_test)\n",
        "sequences_val = tokenizer.texts_to_sequences(X_val)\n",
        "\n",
        "X_train = pad_sequences(sequences_train, maxlen=256, truncating='pre')\n",
        "X_test = pad_sequences(sequences_test, maxlen=256, truncating='pre')\n",
        "X_val = pad_sequences(sequences_val, maxlen=256, truncating='pre')\n",
        "\n",
        "vocabSize = len(tokenizer.index_word) + 1\n",
        "print(f\"Vocabulary size = {vocabSize}\")"
      ],
      "metadata": {
        "execution": {
          "iopub.status.busy": "2021-10-28T17:01:29.161255Z",
          "iopub.execute_input": "2021-10-28T17:01:29.161522Z",
          "iopub.status.idle": "2021-10-28T17:01:30.218061Z",
          "shell.execute_reply.started": "2021-10-28T17:01:29.161484Z",
          "shell.execute_reply": "2021-10-28T17:01:30.217279Z"
        },
        "trusted": true,
        "colab": {
          "base_uri": "https://localhost:8080/"
        },
        "id": "d40kAQnHQprC",
        "outputId": "782cc2f3-df90-41c1-81c5-fbf291f22f30"
      },
      "execution_count": 7,
      "outputs": [
        {
          "output_type": "stream",
          "name": "stdout",
          "text": [
            "Vocabulary size = 16185\n"
          ]
        }
      ]
    },
    {
      "cell_type": "code",
      "source": [
        "#Read GloVE embeddings\n",
        "path_to_glove_file = '/content/drive/MyDrive/Assignment/glove.6B.200d.txt'\n",
        "num_tokens = vocabSize\n",
        "embedding_dim = 200\n",
        "hits = 0\n",
        "misses = 0\n",
        "embeddings_index = {}\n",
        "\n",
        "# Read word vectors\n",
        "with open(path_to_glove_file) as f:\n",
        "    for line in f:\n",
        "        word, coefs = line.split(maxsplit=1)\n",
        "        coefs = np.fromstring(coefs, \"f\", sep=\" \")\n",
        "        embeddings_index[word] = coefs\n",
        "print(\"Found %s word vectors.\" % len(embeddings_index))\n",
        "\n",
        "\n",
        "# Assign word vectors to our dictionary/vocabulary\n",
        "embedding_matrix = np.zeros((num_tokens, embedding_dim))\n",
        "for word, i in tokenizer.word_index.items():\n",
        "    embedding_vector = embeddings_index.get(word)\n",
        "    if embedding_vector is not None:\n",
        "        # Words not found in embedding index will be all-zeros.\n",
        "        # This includes the representation for \"padding\" and \"OOV\"\n",
        "        embedding_matrix[i] = embedding_vector\n",
        "        hits += 1\n",
        "    else:\n",
        "        misses += 1\n",
        "print(\"Converted %d words (%d misses)\" % (hits, misses))"
      ],
      "metadata": {
        "execution": {
          "iopub.status.busy": "2021-10-28T17:01:33.7402Z",
          "iopub.execute_input": "2021-10-28T17:01:33.740659Z",
          "iopub.status.idle": "2021-10-28T17:01:56.449165Z",
          "shell.execute_reply.started": "2021-10-28T17:01:33.740619Z",
          "shell.execute_reply": "2021-10-28T17:01:56.44837Z"
        },
        "trusted": true,
        "id": "e67R2xDlQprD",
        "colab": {
          "base_uri": "https://localhost:8080/"
        },
        "outputId": "443f4c77-af96-45da-9536-946fe089ce91"
      },
      "execution_count": 8,
      "outputs": [
        {
          "output_type": "stream",
          "name": "stdout",
          "text": [
            "Found 400000 word vectors.\n",
            "Converted 15069 words (1115 misses)\n"
          ]
        }
      ]
    },
    {
      "cell_type": "code",
      "source": [
        "\n",
        "# Build neural network architecture\n",
        "model = Sequential()\n",
        "model.add(Embedding(vocabSize, embedding_dim, input_length=256, weights=[embedding_matrix], trainable=False))\n",
        "model.add(Bidirectional(tf.keras.layers.LSTM(16, return_sequences=True)))\n",
        "model.add(Dropout(0.2))\n",
        "model.add(Bidirectional(tf.keras.layers.LSTM(32, return_sequences=True)))\n",
        "model.add(Dropout(0.2))\n",
        "model.add(Bidirectional(tf.keras.layers.LSTM(64)))\n",
        "model.add(Dense(128, activation='relu'))\n",
        "model.add(Dense(6, activation='sigmoid'))\n",
        "\n",
        "adam = Adam(learning_rate=0.005)\n",
        "model.compile(loss='sparse_categorical_crossentropy',optimizer = adam ,metrics=[\"accuracy\"])"
      ],
      "metadata": {
        "execution": {
          "iopub.status.busy": "2021-10-28T17:02:11.518662Z",
          "iopub.execute_input": "2021-10-28T17:02:11.519376Z",
          "iopub.status.idle": "2021-10-28T17:02:13.214957Z",
          "shell.execute_reply.started": "2021-10-28T17:02:11.519339Z",
          "shell.execute_reply": "2021-10-28T17:02:13.214256Z"
        },
        "trusted": true,
        "id": "wSJWnBz2QprE"
      },
      "execution_count": 24,
      "outputs": []
    },
    {
      "cell_type": "code",
      "source": [
        "#Callback\n",
        "callback = EarlyStopping(\n",
        "    monitor='val_loss',\n",
        "    patience=3,\n",
        "    restore_best_weights=False\n",
        ")"
      ],
      "metadata": {
        "execution": {
          "iopub.status.busy": "2021-10-28T17:02:20.557742Z",
          "iopub.execute_input": "2021-10-28T17:02:20.55807Z",
          "iopub.status.idle": "2021-10-28T17:02:20.562524Z",
          "shell.execute_reply.started": "2021-10-28T17:02:20.558037Z",
          "shell.execute_reply": "2021-10-28T17:02:20.561488Z"
        },
        "trusted": true,
        "id": "VSjuWsCsQprG"
      },
      "execution_count": 25,
      "outputs": []
    },
    {
      "cell_type": "code",
      "source": [
        "# Fit model\n",
        "\n",
        "history = model.fit(X_train, y_train, validation_data=(X_test, y_test), epochs=20, callbacks=[callback], verbose=1)"
      ],
      "metadata": {
        "execution": {
          "iopub.status.busy": "2021-10-28T17:02:22.580574Z",
          "iopub.execute_input": "2021-10-28T17:02:22.581177Z",
          "iopub.status.idle": "2021-10-28T17:09:55.805217Z",
          "shell.execute_reply.started": "2021-10-28T17:02:22.581141Z",
          "shell.execute_reply": "2021-10-28T17:09:55.804395Z"
        },
        "trusted": true,
        "id": "CM_GyHrFQprI",
        "colab": {
          "base_uri": "https://localhost:8080/"
        },
        "outputId": "d7021377-8f12-4b2e-cb9b-865adf534e31"
      },
      "execution_count": 27,
      "outputs": [
        {
          "output_type": "stream",
          "name": "stdout",
          "text": [
            "Epoch 1/20\n",
            "500/500 [==============================] - 291s 582ms/step - loss: 0.2803 - accuracy: 0.9007 - val_loss: 0.2018 - val_accuracy: 0.9145\n",
            "Epoch 2/20\n",
            "500/500 [==============================] - 277s 554ms/step - loss: 0.1848 - accuracy: 0.9216 - val_loss: 0.1799 - val_accuracy: 0.9200\n",
            "Epoch 3/20\n",
            "500/500 [==============================] - 280s 560ms/step - loss: 0.1540 - accuracy: 0.9305 - val_loss: 0.1490 - val_accuracy: 0.9250\n",
            "Epoch 4/20\n",
            "500/500 [==============================] - 283s 566ms/step - loss: 0.1424 - accuracy: 0.9333 - val_loss: 0.1600 - val_accuracy: 0.9215\n",
            "Epoch 5/20\n",
            "500/500 [==============================] - 283s 565ms/step - loss: 0.1225 - accuracy: 0.9379 - val_loss: 0.1429 - val_accuracy: 0.9275\n",
            "Epoch 6/20\n",
            "500/500 [==============================] - 294s 587ms/step - loss: 0.1221 - accuracy: 0.9388 - val_loss: 0.1657 - val_accuracy: 0.9225\n",
            "Epoch 7/20\n",
            "500/500 [==============================] - 296s 591ms/step - loss: 0.1262 - accuracy: 0.9367 - val_loss: 0.1380 - val_accuracy: 0.9275\n",
            "Epoch 8/20\n",
            "500/500 [==============================] - 294s 588ms/step - loss: 0.1155 - accuracy: 0.9398 - val_loss: 0.1382 - val_accuracy: 0.9260\n",
            "Epoch 9/20\n",
            "500/500 [==============================] - 298s 597ms/step - loss: 0.1135 - accuracy: 0.9420 - val_loss: 0.1436 - val_accuracy: 0.9230\n",
            "Epoch 10/20\n",
            "500/500 [==============================] - 300s 600ms/step - loss: 0.1199 - accuracy: 0.9397 - val_loss: 0.1468 - val_accuracy: 0.9270\n"
          ]
        }
      ]
    },
    {
      "cell_type": "code",
      "source": [
        "model.evaluate(X_val, y_val, verbose=1)"
      ],
      "metadata": {
        "execution": {
          "iopub.status.busy": "2021-10-28T17:14:45.655628Z",
          "iopub.execute_input": "2021-10-28T17:14:45.656436Z",
          "iopub.status.idle": "2021-10-28T17:15:26.650347Z",
          "shell.execute_reply.started": "2021-10-28T17:14:45.656399Z",
          "shell.execute_reply": "2021-10-28T17:15:26.649551Z"
        },
        "trusted": true,
        "id": "Duln-TnJQprI",
        "colab": {
          "base_uri": "https://localhost:8080/"
        },
        "outputId": "49656e80-4242-4d79-c023-60ddd2e4457e"
      },
      "execution_count": 28,
      "outputs": [
        {
          "output_type": "stream",
          "name": "stdout",
          "text": [
            "63/63 [==============================] - 10s 159ms/step - loss: 0.1224 - accuracy: 0.9405\n"
          ]
        },
        {
          "output_type": "execute_result",
          "data": {
            "text/plain": [
              "[0.12239077687263489, 0.940500020980835]"
            ]
          },
          "metadata": {},
          "execution_count": 28
        }
      ]
    },
    {
      "cell_type": "code",
      "source": [
        "# Visualize Loss & Accuracy\n",
        "\n",
        "%matplotlib inline\n",
        "import matplotlib.pyplot as plt\n",
        "acc = history.history['accuracy']\n",
        "val_acc = history.history['val_accuracy']\n",
        "loss = history.history['loss']\n",
        "val_loss = history.history['val_loss']\n",
        "\n",
        "epochs = range(len(acc))\n",
        "\n",
        "plt.plot(epochs, acc, 'r', label='Training accuracy')\n",
        "plt.plot(epochs, val_acc, 'b', label='Validation accuracy')\n",
        "plt.title('Training and validation accuracy')\n",
        "plt.legend()\n",
        "plt.figure()\n",
        "\n",
        "plt.plot(epochs, loss, 'r', label='Training Loss')\n",
        "plt.plot(epochs, val_loss, 'b', label='Validation Loss')\n",
        "plt.title('Training and validation loss')\n",
        "plt.legend()\n",
        "\n",
        "plt.show()"
      ],
      "metadata": {
        "execution": {
          "iopub.status.busy": "2021-10-28T17:15:31.082882Z",
          "iopub.execute_input": "2021-10-28T17:15:31.08361Z",
          "iopub.status.idle": "2021-10-28T17:15:31.495194Z",
          "shell.execute_reply.started": "2021-10-28T17:15:31.083557Z",
          "shell.execute_reply": "2021-10-28T17:15:31.494441Z"
        },
        "trusted": true,
        "id": "0E60nVznQprO",
        "colab": {
          "base_uri": "https://localhost:8080/",
          "height": 545
        },
        "outputId": "86d59b2b-2fb5-4303-a041-e36ebe2a1056"
      },
      "execution_count": 29,
      "outputs": [
        {
          "output_type": "display_data",
          "data": {
            "text/plain": [
              "<Figure size 432x288 with 1 Axes>"
            ],
            "image/png": "[encoded data removed]"
          },
          "metadata": {
            "needs_background": "light"
          }
        },
        {
          "output_type": "display_data",
          "data": {
            "text/plain": [
              "<Figure size 432x288 with 1 Axes>"
            ],
            "image/png": "[encoded data removed]"
          },
          "metadata": {
            "needs_background": "light"
          }
        }
      ]
    },
    {
      "cell_type": "code",
      "source": [
        "# Classify custom sample\n",
        "\n",
        "sentences = [\"i realy scare\"\n",
        "            ]\n",
        "for sentence in sentences:\n",
        "    print(sentence)\n",
        "    sentence = clean(sentence)\n",
        "    sentence = tokenizer.texts_to_sequences([sentence])\n",
        "    sentence = pad_sequences(sentence, maxlen=256, truncating='pre')\n",
        "    result = le.inverse_transform(np.argmax(model.predict(sentence), axis=-1))[0]\n",
        "    proba =  np.max(model.predict(sentence))\n",
        "    print(f\"{result} : {proba}\\n\")"
      ],
      "metadata": {
        "execution": {
          "iopub.status.busy": "2021-10-28T17:15:46.84557Z",
          "iopub.execute_input": "2021-10-28T17:15:46.845844Z",
          "iopub.status.idle": "2021-10-28T17:15:49.10411Z",
          "shell.execute_reply.started": "2021-10-28T17:15:46.845813Z",
          "shell.execute_reply": "2021-10-28T17:15:49.103351Z"
        },
        "trusted": true,
        "id": "hFGFd0gQQprP",
        "colab": {
          "base_uri": "https://localhost:8080/"
        },
        "outputId": "dcd79929-a1e9-4db8-cef3-9656fd60b3bc"
      },
      "execution_count": 31,
      "outputs": [
        {
          "output_type": "stream",
          "name": "stdout",
          "text": [
            "i realy scare\n",
            "fear : 0.6913325786590576\n",
            "\n"
          ]
        }
      ]
    },
    {
      "cell_type": "code",
      "source": [
        "import pickle\n",
        "with open('tokenizer.pickle', 'wb') as f:\n",
        "    pickle.dump(tokenizer, f)\n",
        "    \n",
        "with open('labelEncoder.pickle', 'wb') as f:\n",
        "    pickle.dump(le, f)\n",
        "    \n",
        "    \n",
        "model.save('Emotion Recognition.h5')"
      ],
      "metadata": {
        "id": "1OAz47lBQprP"
      },
      "execution_count": 32,
      "outputs": []
    }
  ]
}